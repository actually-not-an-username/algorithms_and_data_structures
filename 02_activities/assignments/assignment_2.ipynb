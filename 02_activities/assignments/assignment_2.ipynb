{
 "cells": [
  {
   "cell_type": "markdown",
   "metadata": {},
   "source": [
    "# Practice Interview\n",
    "\n",
    "## Objective\n",
    "\n",
    "_*The partner assignment aims to provide participants with the opportunity to practice coding in an interview context. You will analyze your partner's Assignment 1. Moreover, code reviews are common practice in a software development team. This assignment should give you a taste of the code review process.*_\n",
    "\n",
    "## Group Size\n",
    "\n",
    "Each group should have 2 people. You will be assigned a partner\n",
    "\n",
    "## Part 1:\n",
    "\n",
    "You and your partner must share each other's Assignment 1 submission."
   ]
  },
  {
   "cell_type": "markdown",
   "metadata": {},
   "source": [
    "> Reviewing assignment 1 (Question 3) submitted by Jyoti Narang - https://github.com/drop2jyoti/algorithms_and_data_structures/pull/1"
   ]
  },
  {
   "cell_type": "markdown",
   "metadata": {},
   "source": [
    "\n",
    "## Part 2:\n",
    "\n",
    "Create a Jupyter Notebook, create 6 of the following headings, and complete the following for your partner's assignment 1:\n",
    "\n",
    "-   Paraphrase the problem in your own words.\n"
   ]
  },
  {
   "cell_type": "markdown",
   "metadata": {},
   "source": [
    "> Validate the existence of missing values in a giving list (it is possible that the list is unordered, also nothing is mentioned about duplicity of the list values)\n",
    ">\n",
    "> If the list have any missing values we should create a new list with those missing values, other wise we should return the value -1"
   ]
  },
  {
   "cell_type": "markdown",
   "metadata": {},
   "source": [
    "\n",
    "-   Create 1 new example that demonstrates you understand the problem. Trace/walkthrough 1 example that your partner made and explain it.\n"
   ]
  },
  {
   "cell_type": "markdown",
   "metadata": {},
   "source": [
    "**My example**\n",
    "\n",
    "> input: [10, 5, 2, 3, 2, 8, 3]\n",
    "> \n",
    "> output: [0, 1, 4, 6, 7, 9]"
   ]
  },
  {
   "cell_type": "markdown",
   "metadata": {},
   "source": [
    "**Review of my partner's example**\n",
    "\n",
    "> Input : [0,-2,4,3,1] output : [-1,2] \n",
    ">\n",
    "> Steps:\n",
    ">>     Check whether the list contains something or not -> it does.\n",
    ">>     Instantiate a set based from the input list.\n",
    ">>     Find the bounds of the set -> (-2, 4).\n",
    ">>     Create a list with the missing values using the bounds to iterate -> [-1,2]\n",
    ">>     Check whether the missing values list is empty or not:\n",
    ">>>         If the list is not empty return it -> returning [-1,2]\n",
    ">>>         Else return [-1]"
   ]
  },
  {
   "cell_type": "markdown",
   "metadata": {},
   "source": [
    "\n",
    "-   Copy the solution your partner wrote. \n"
   ]
  },
  {
   "cell_type": "code",
   "execution_count": null,
   "metadata": {},
   "outputs": [],
   "source": [
    "from typing import List\n",
    "\n",
    "def missingNumber(nums: List[int]) -> List[int]:\n",
    "    if not nums:  # Handle empty list\n",
    "        return [-1]\n",
    "    \n",
    "    nums_set = set(nums)\n",
    "    lower_range = min(nums_set)\n",
    "    upper_range = max(nums_set)\n",
    "\n",
    "    # Create a list of all numbers in the range that are not in nums_set\n",
    "    missing_numbers = [number for number in range(lower_range, upper_range + 1) if number not in nums_set]\n",
    "    \n",
    "    # Return missing numbers or [-1] if none are found\n",
    "    return missing_numbers if missing_numbers else [-1]"
   ]
  },
  {
   "cell_type": "markdown",
   "metadata": {},
   "source": [
    "\n",
    "-   Explain why their solution works in your own words.\n"
   ]
  },
  {
   "cell_type": "markdown",
   "metadata": {},
   "source": [
    "The solution lacks of certain rules needed to work according to the problem statement as follows:\n",
    "\n",
    "* The problem states: _You are given a list containing n integers in the range __[0, n]___ \n",
    "  * Then the programmer should have started to analyze the range from **0** rather than finding a lower bound\n",
    "  * The line _[number for number in range(lower_range, upper_range + 1) if number not in nums_set]_ should've been [number for number in **range(upper_range + 1)** if number not in nums_set] if and only if the upper range is a non-negative integer.\n",
    "* Due to the previous issue if the input is a list with a single value (either size 1 or several repetitions of the same number) it'll fail.\n",
    "* Also since the problem states that the lower bound should be kept at 0 it will produces wrong inputs when negative values are used in the input list."
   ]
  },
  {
   "cell_type": "markdown",
   "metadata": {},
   "source": [
    "\n",
    "-   Explain the problem’s time and space complexity in your own words.\n"
   ]
  },
  {
   "cell_type": "code",
   "execution_count": null,
   "metadata": {},
   "outputs": [],
   "source": [
    "# from typing import List\n",
    "\n",
    "# def missingNumber(nums: List[int]) -> List[int]:\n",
    "#     if not nums:  # Handle empty list     -> T.C O(1)\n",
    "#         return [-1]                       -> T.C O(1)\n",
    "    \n",
    "#     nums_set = set(nums)                  -> T.C O(n)\n",
    "#     lower_range = min(nums_set)           -> T.C O(n)\n",
    "#     upper_range = max(nums_set)           -> T.C O(n)\n",
    "\n",
    "#     # Create a list of all numbers in the range that are not in nums_set\n",
    "#     missing_numbers = [number for number in range(lower_range, upper_range + 1) if number not in nums_set] -> T.C O(n+1) -> -> T.C O(n)\n",
    "    \n",
    "#     # Return missing numbers or [-1] if none are found\n",
    "#     return missing_numbers if missing_numbers else [-1] -> T.C O(1)"
   ]
  },
  {
   "cell_type": "markdown",
   "metadata": {},
   "source": [
    "The time complexity of my partner's solution is **O(n)** then explained as: \n",
    "* (O(1) + O(1) + O(n) + O(n) + O(n) + O(n+1) + O(1))\n",
    "* (O(1 * 3) + O(n * 2) + O(n + 1)) -> (O(1 * 3) + O(n * 3)) \n",
    "* (O(1) + O(n))\n",
    "* (O(n))\n",
    "\n",
    "Since we're not saving any data then the space complexity will remain as **O(1)**"
   ]
  },
  {
   "cell_type": "markdown",
   "metadata": {},
   "source": [
    "\n",
    "-   Critique your partner's solution, including explanation, and if there is anything that should be adjusted.\n"
   ]
  },
  {
   "cell_type": "markdown",
   "metadata": {},
   "source": [
    "I'll be reviewing my partner's code as they explained it in assignment 1, complementing with my own recomendations.\n",
    "\n",
    "* In the first step of the explanation it is said that the code will for check for empty list or list with only one item - return [1] without processing further, but in order to do that it needs to be:\n",
    "  * ```python\n",
    "    if len(nums) <= 1:  # Handle empty list or list with a single member.\n",
    "    ```\n",
    "  * However, doing this could also introduce problems due to the possibility of an input with a single value greater than 0, in this case the method will be incorrect again. i.e. input = [2] produces output = [-1] but the expected output should be [0,1]\n",
    "* I think the creation of a set is a very smart solution since it's reduces the problem complexity due to the multiple times we have to search in the input list and also removes a possible problem while dealing with duplicated values.\n",
    "* Finding the minimum value in the input has been proven unnecessary and even prone to create bugs.\n",
    "* Finding the max value in the input was (in my point of view) the way to go in order to stop the looping mechanism that the developer find fit to solve this problem.\n",
    "* As mentioned before instead of ranging from min to max value they should loop from 0 to max.\n",
    "* Doing a search operation in a set has an O(1) complexity in a set of instead of an O(n) in a list so this is where the algorithm becomes efficient!\n",
    "* The last step of checking whether or not the resultant list was empty was also a very important step in order to secure accuracy in the response.\n",
    "\n",
    "Also, regarding to code style I think this code is highly maintainable and self explanatory as well as using comments to explain the code is a very good practice."
   ]
  },
  {
   "cell_type": "markdown",
   "metadata": {},
   "source": [
    "\n",
    "## Part 3:\n",
    "\n",
    "Please write a 200 word reflection documenting your process from assignment 1, and your presentation and review experience with your partner at the bottom of the Jupyter Notebook under a new heading \"Reflection.\" Again, export this Notebook as pdf.\n"
   ]
  },
  {
   "cell_type": "markdown",
   "metadata": {},
   "source": [
    "### Reflection"
   ]
  },
  {
   "cell_type": "markdown",
   "metadata": {},
   "source": [
    "Working with my partner's solution in the missing numbers problem was a very nice exercise since I could have the opportunity to review the algorithm design of another developer as well as view the problem not as a solver but as a jury (like in a hackaton) which is really nice since it also helps you to develop critical thinking.\n",
    "\n",
    "This exercise is a clear demonstration on how important it is to fully understand the problem statement requirements and acceptance criteria, since it can create production bugs even thought the code looked good and demonstrated high skills from the programmer's side. In the acceptance criteria it is also important to generate edge cases since they can provide important insights to the programmer and also to the person/team in charge of doing Q.A. to the solution given.\n",
    "\n",
    "There's a practice in coding called defensive programming which will command the programmer with the task of thinking that the users are a malicious actor and will provide wrong or harmful input, this practice is often a lifesaver for edge cases and will be very helpful to catch early errors in the code lifecycle rather than waiting for a program failure.\n",
    "\n",
    "The complexity of the solution provided was efficient since it was kept in O(n) which from my perspective is the best solution for the problem statement."
   ]
  },
  {
   "cell_type": "markdown",
   "metadata": {},
   "source": [
    "\n",
    "## Evaluation Criteria\n",
    "\n",
    "We are looking for the similar points as Assignment 1\n",
    "\n",
    "-   Problem is accurately stated\n",
    "\n",
    "-   New example is correct and easily understandable\n",
    "\n",
    "-   Correctness, time, and space complexity of the coding solution\n",
    "\n",
    "-   Clarity in explaining why the solution works, its time and space complexity\n",
    "\n",
    "-   Quality of critique of your partner's assignment, if necessary\n"
   ]
  },
  {
   "cell_type": "markdown",
   "metadata": {},
   "source": [
    "## Submission Information\n",
    "\n",
    "🚨 **Please review our [Assignment Submission Guide](https://github.com/UofT-DSI/onboarding/blob/main/onboarding_documents/submissions.md)** 🚨 for detailed instructions on how to format, branch, and submit your work. Following these guidelines is crucial for your submissions to be evaluated correctly.\n",
    "\n",
    "### Submission Parameters:\n",
    "* Submission Due Date: `HH:MM AM/PM - DD/MM/YYYY`\n",
    "* The branch name for your repo should be: `assignment-2`\n",
    "* What to submit for this assignment:\n",
    "    * This Jupyter Notebook (assignment_2.ipynb) should be populated and should be the only change in your pull request.\n",
    "* What the pull request link should look like for this assignment: `https://github.com/<your_github_username>/algorithms_and_data_structures/pull/<pr_id>`\n",
    "    * Open a private window in your browser. Copy and paste the link to your pull request into the address bar. Make sure you can see your pull request properly. This helps the technical facilitator and learning support staff review your submission easily.\n",
    "\n",
    "Checklist:\n",
    "- [ ] Created a branch with the correct naming convention.\n",
    "- [ ] Ensured that the repository is public.\n",
    "- [ ] Reviewed the PR description guidelines and adhered to them.\n",
    "- [ ] Verify that the link is accessible in a private browser window.\n",
    "\n",
    "If you encounter any difficulties or have questions, please don't hesitate to reach out to our team via our Slack at `#cohort-3-help`. Our Technical Facilitators and Learning Support staff are here to help you navigate any challenges.\n"
   ]
  }
 ],
 "metadata": {
  "language_info": {
   "name": "python"
  }
 },
 "nbformat": 4,
 "nbformat_minor": 2
}
